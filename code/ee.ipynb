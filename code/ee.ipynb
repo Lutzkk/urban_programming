{
 "cells": [
  {
   "cell_type": "code",
   "execution_count": 1,
   "id": "a257e3c0",
   "metadata": {},
   "outputs": [
    {
     "name": "stderr",
     "output_type": "stream",
     "text": [
      "/home/lutz/miniconda3/envs/urban_programming/lib/python3.9/site-packages/geemap/conversion.py:23: UserWarning: pkg_resources is deprecated as an API. See https://setuptools.pypa.io/en/latest/pkg_resources.html. The pkg_resources package is slated for removal as early as 2025-11-30. Refrain from using this package or pin to Setuptools<81.\n",
      "  import pkg_resources\n"
     ]
    }
   ],
   "source": [
    "import ee \n",
    "import geemap \n",
    "import xarray as xr \n",
    "import numpy as np \n",
    "import matplotlib.pyplot as plt \n",
    "import geopandas as gpd"
   ]
  },
  {
   "cell_type": "code",
   "execution_count": 2,
   "id": "6113fcde",
   "metadata": {},
   "outputs": [
    {
     "data": {
      "text/html": [
       "\n",
       "            <style>\n",
       "                .geemap-dark {\n",
       "                    --jp-widgets-color: white;\n",
       "                    --jp-widgets-label-color: white;\n",
       "                    --jp-ui-font-color1: white;\n",
       "                    --jp-layout-color2: #454545;\n",
       "                    background-color: #383838;\n",
       "                }\n",
       "\n",
       "                .geemap-dark .jupyter-button {\n",
       "                    --jp-layout-color3: #383838;\n",
       "                }\n",
       "\n",
       "                .geemap-colab {\n",
       "                    background-color: var(--colab-primary-surface-color, white);\n",
       "                }\n",
       "\n",
       "                .geemap-colab .jupyter-button {\n",
       "                    --jp-layout-color3: var(--colab-primary-surface-color, white);\n",
       "                }\n",
       "            </style>\n",
       "            "
      ],
      "text/plain": [
       "<IPython.core.display.HTML object>"
      ]
     },
     "metadata": {},
     "output_type": "display_data"
    },
    {
     "name": "stdout",
     "output_type": "stream",
     "text": [
      "Current working directory: /home/lutz/master/code/second_sem/urban/presentation/code\n"
     ]
    }
   ],
   "source": [
    "#wd setting\n",
    "import os\n",
    "wd = '/home/lutz/master/code/second_sem/urban/presentation/code'\n",
    "os.chdir(wd)\n",
    "print('Current working directory:', os.getcwd())"
   ]
  },
  {
   "cell_type": "code",
   "execution_count": 3,
   "id": "2a41c845",
   "metadata": {},
   "outputs": [
    {
     "data": {
      "text/html": [
       "\n",
       "            <style>\n",
       "                .geemap-dark {\n",
       "                    --jp-widgets-color: white;\n",
       "                    --jp-widgets-label-color: white;\n",
       "                    --jp-ui-font-color1: white;\n",
       "                    --jp-layout-color2: #454545;\n",
       "                    background-color: #383838;\n",
       "                }\n",
       "\n",
       "                .geemap-dark .jupyter-button {\n",
       "                    --jp-layout-color3: #383838;\n",
       "                }\n",
       "\n",
       "                .geemap-colab {\n",
       "                    background-color: var(--colab-primary-surface-color, white);\n",
       "                }\n",
       "\n",
       "                .geemap-colab .jupyter-button {\n",
       "                    --jp-layout-color3: var(--colab-primary-surface-color, white);\n",
       "                }\n",
       "            </style>\n",
       "            "
      ],
      "text/plain": [
       "<IPython.core.display.HTML object>"
      ]
     },
     "metadata": {},
     "output_type": "display_data"
    },
    {
     "data": {
      "text/plain": [
       "True"
      ]
     },
     "execution_count": 3,
     "metadata": {},
     "output_type": "execute_result"
    }
   ],
   "source": [
    "ee.Initialize(project=\"ee-lutz-training\") #Authenticate with your Google account !!Insert your project name here!! \n",
    "ee.Authenticate() "
   ]
  },
  {
   "cell_type": "markdown",
   "id": "f64caaa2",
   "metadata": {},
   "source": [
    "## Loading the AOI's"
   ]
  },
  {
   "cell_type": "code",
   "execution_count": 4,
   "id": "6e7b8d3b",
   "metadata": {},
   "outputs": [
    {
     "data": {
      "text/html": [
       "\n",
       "            <style>\n",
       "                .geemap-dark {\n",
       "                    --jp-widgets-color: white;\n",
       "                    --jp-widgets-label-color: white;\n",
       "                    --jp-ui-font-color1: white;\n",
       "                    --jp-layout-color2: #454545;\n",
       "                    background-color: #383838;\n",
       "                }\n",
       "\n",
       "                .geemap-dark .jupyter-button {\n",
       "                    --jp-layout-color3: #383838;\n",
       "                }\n",
       "\n",
       "                .geemap-colab {\n",
       "                    background-color: var(--colab-primary-surface-color, white);\n",
       "                }\n",
       "\n",
       "                .geemap-colab .jupyter-button {\n",
       "                    --jp-layout-color3: var(--colab-primary-surface-color, white);\n",
       "                }\n",
       "            </style>\n",
       "            "
      ],
      "text/plain": [
       "<IPython.core.display.HTML object>"
      ]
     },
     "metadata": {},
     "output_type": "display_data"
    },
    {
     "data": {
      "application/vnd.jupyter.widget-view+json": {
       "model_id": "92d714e33f144b6d977287ed1177948a",
       "version_major": 2,
       "version_minor": 0
      },
      "text/plain": [
       "Map(center=[0, 0], controls=(WidgetControl(options=['position', 'transparent_bg'], widget=SearchDataGUI(childr…"
      ]
     },
     "execution_count": 4,
     "metadata": {},
     "output_type": "execute_result"
    }
   ],
   "source": [
    "munich=gpd.read_file(\"../data/aoi_munich.geojson\").to_crs(\"EPSG:4326\")\n",
    "cologne=gpd.read_file(\"../data/aoi_cologne.geojson\").to_crs(\"EPSG:4326\")\n",
    "\n",
    "#extract geometry\n",
    "munich_geom=munich.geometry.iloc[0]\n",
    "cologne_geom=cologne.geometry.iloc[0]\n",
    "\n",
    "#convert geometry info to GeoJSON dict\n",
    "munich_geojson=munich_geom.__geo_interface__\n",
    "cologne_geojson=cologne_geom.__geo_interface__\n",
    "\n",
    "#create EE Geometry\n",
    "munich_ee=ee.Geometry(munich_geojson)\n",
    "cologne_ee=ee.Geometry(cologne_geojson)\n",
    "#plot map using geemap\n",
    "Map = geemap.Map()  # zoomed out to show both cities\n",
    "Map.add_gdf(munich, layer_name=\"Munich AOI\")\n",
    "Map.add_gdf(cologne, layer_name=\"Cologne AOI\")\n",
    "Map.add_basemap(\"OpenStreetMap\")\n",
    "Map"
   ]
  },
  {
   "cell_type": "code",
   "execution_count": 9,
   "id": "91d0ebc8",
   "metadata": {},
   "outputs": [
    {
     "data": {
      "text/html": [
       "\n",
       "            <style>\n",
       "                .geemap-dark {\n",
       "                    --jp-widgets-color: white;\n",
       "                    --jp-widgets-label-color: white;\n",
       "                    --jp-ui-font-color1: white;\n",
       "                    --jp-layout-color2: #454545;\n",
       "                    background-color: #383838;\n",
       "                }\n",
       "\n",
       "                .geemap-dark .jupyter-button {\n",
       "                    --jp-layout-color3: #383838;\n",
       "                }\n",
       "\n",
       "                .geemap-colab {\n",
       "                    background-color: var(--colab-primary-surface-color, white);\n",
       "                }\n",
       "\n",
       "                .geemap-colab .jupyter-button {\n",
       "                    --jp-layout-color3: var(--colab-primary-surface-color, white);\n",
       "                }\n",
       "            </style>\n",
       "            "
      ],
      "text/plain": [
       "<IPython.core.display.HTML object>"
      ]
     },
     "metadata": {},
     "output_type": "display_data"
    },
    {
     "data": {
      "application/vnd.jupyter.widget-view+json": {
       "model_id": "411123ddbde94e7b95a8849b7b7efd25",
       "version_major": 2,
       "version_minor": 0
      },
      "text/plain": [
       "Map(center=[48.153162064787196, 11.547401603636363], controls=(WidgetControl(options=['position', 'transparent…"
      ]
     },
     "execution_count": 9,
     "metadata": {},
     "output_type": "execute_result"
    }
   ],
   "source": [
    "def mask_s2_clouds(image):\n",
    "  \"\"\"Masks clouds in a Sentinel-2 image using the QA band.\n",
    "\n",
    "  Args:\n",
    "      image (ee.Image): A Sentinel-2 image.\n",
    "\n",
    "  Returns:\n",
    "      ee.Image: A cloud-masked Sentinel-2 image.\n",
    "  \"\"\"\n",
    "  qa = image.select('QA60')\n",
    "\n",
    "  # Bits 10 and 11 are clouds and cirrus, respectively.\n",
    "  cloud_bit_mask = 1 << 10\n",
    "  cirrus_bit_mask = 1 << 11\n",
    "\n",
    "  # Both flags should be set to zero, indicating clear conditions.\n",
    "  mask = (\n",
    "      qa.bitwiseAnd(cloud_bit_mask)\n",
    "      .eq(0)\n",
    "      .And(qa.bitwiseAnd(cirrus_bit_mask).eq(0))\n",
    "  )\n",
    "\n",
    "  return image.updateMask(mask).divide(10000)\n",
    "\n",
    "\n",
    "munich_props=(\n",
    "  ee.ImageCollection(\"COPERNICUS/S2_SR_HARMONIZED\")\n",
    "  .filterDate(\"2024-06-01\",\"2024-08-31\")\n",
    "  .filterBounds(munich_ee)\n",
    "  .filter(ee.Filter.lt(\"CLOUDY_PIXEL_PERCENTAGE\", 15))\n",
    "  .map(mask_s2_clouds)\n",
    "  .map(lambda img: img.clip(munich_ee))\n",
    "  .map(lambda img: img.select([\"B8\", \"B4\", \"B3\", \"B2\"]).rename([\"Nir\",\"Red\", \"Green\", \"Blue\"]))\n",
    "  .map(lambda img: img.addBands(img.normalizedDifference(['Nir', 'Red']).rename('NDVI')))  \n",
    "\n",
    ") \n",
    "footprint = munich_props.geometry()\n",
    "Map.addLayer(footprint, {'color': 'red'}, 'Image footprints')\n",
    "\n",
    "cologne_props=(\n",
    "  ee.ImageCollection(\"COPERNICUS/S2_SR_HARMONIZED\")\n",
    "  .filterDate(\"2024-06-01\",\"2024-08-31\")\n",
    "  .filterBounds(cologne_ee)\n",
    "  .filter(ee.Filter.lt(\"CLOUDY_PIXEL_PERCENTAGE\", 15))\n",
    "  .map(mask_s2_clouds)\n",
    "  .map(lambda img: img.clip(cologne_ee))\n",
    "  .map(lambda img: img.select([\"B8\", \"B4\", \"B3\", \"B2\"]).rename([\"Nir\",\"Red\", \"Green\", \"Blue\"]))\n",
    "  #ndvi calc\n",
    "  .map(lambda img: img.addBands(img.normalizedDifference(['Nir', 'Red']).rename('NDVI')))\n",
    ")\n",
    "\n",
    "munich_median = munich_props.median()\n",
    "cologne_median = cologne_props.median()\n",
    "\n",
    "#plotting the images\n",
    "Map = geemap.Map()\n",
    "Map.centerObject(munich_ee, 11)  # Center on Munich AOI\n",
    "\n",
    "# Add median true-color composite\n",
    "Map.addLayer(munich_median, {'bands': ['Red', 'Green', 'Blue'], 'min': 0, 'max': 0.2}, 'Munich Median RGB')\n",
    "Map.addLayer(munich_ee, {}, 'Munich AOI')\n",
    "Map.addLayer(munich_geom, {}, 'Munich AOI')\n",
    "ndvi_viz = {\n",
    "    'min': 0.0,\n",
    "    'max': 0.8,\n",
    "    'palette': ['blue', 'white', 'green'],\n",
    "}\n",
    "Map.addLayer(munich_median.select('NDVI'), ndvi_viz, 'Munich NDVI')\n",
    "Map"
   ]
  }
 ],
 "metadata": {
  "kernelspec": {
   "display_name": "urban_programming",
   "language": "python",
   "name": "python3"
  },
  "language_info": {
   "codemirror_mode": {
    "name": "ipython",
    "version": 3
   },
   "file_extension": ".py",
   "mimetype": "text/x-python",
   "name": "python",
   "nbconvert_exporter": "python",
   "pygments_lexer": "ipython3",
   "version": "3.9.23"
  }
 },
 "nbformat": 4,
 "nbformat_minor": 5
}
